{
  "nbformat": 4,
  "nbformat_minor": 0,
  "metadata": {
    "colab": {
      "name": "Decision Tree.ipynb",
      "version": "0.3.2",
      "provenance": []
    },
    "kernelspec": {
      "name": "python3",
      "display_name": "Python 3"
    }
  },
  "cells": [
    {
      "metadata": {
        "id": "MCoYX2S803gM",
        "colab_type": "code",
        "colab": {}
      },
      "cell_type": "code",
      "source": [
        "import pandas as pd\n",
        "import matplotlib.pyplot as plt\n",
        "%matplotlib inline\n",
        "from sklearn.datasets import load_breast_cancer\n",
        "from sklearn.tree import DecisionTreeClassifier\n",
        "from sklearn.model_selection import train_test_split"
      ],
      "execution_count": 0,
      "outputs": []
    },
    {
      "metadata": {
        "id": "ebg16v0n1zYk",
        "colab_type": "code",
        "colab": {}
      },
      "cell_type": "code",
      "source": [
        "cancer = load_breast_cancer()\n",
        "X=cancer.data\n",
        "y=cancer.target\n",
        "X_train, X_test, y_train, y_test = train_test_split(X, y, test_size=0.4)"
      ],
      "execution_count": 0,
      "outputs": []
    },
    {
      "metadata": {
        "id": "yd5EC8Li2GlF",
        "colab_type": "code",
        "colab": {
          "base_uri": "https://localhost:8080/",
          "height": 119
        },
        "outputId": "c49d2866-e884-44a3-e9f8-d24ea755baf7"
      },
      "cell_type": "code",
      "source": [
        "tree = DecisionTreeClassifier(random_state=0)\n",
        "tree.fit(X_train, y_train)"
      ],
      "execution_count": 17,
      "outputs": [
        {
          "output_type": "execute_result",
          "data": {
            "text/plain": [
              "DecisionTreeClassifier(class_weight=None, criterion='gini', max_depth=None,\n",
              "            max_features=None, max_leaf_nodes=None,\n",
              "            min_impurity_decrease=0.0, min_impurity_split=None,\n",
              "            min_samples_leaf=1, min_samples_split=2,\n",
              "            min_weight_fraction_leaf=0.0, presort=False, random_state=0,\n",
              "            splitter='best')"
            ]
          },
          "metadata": {
            "tags": []
          },
          "execution_count": 17
        }
      ]
    },
    {
      "metadata": {
        "id": "FTrk4g_n2N9j",
        "colab_type": "code",
        "colab": {
          "base_uri": "https://localhost:8080/",
          "height": 51
        },
        "outputId": "b2fd5ba8-9b26-4d8f-e9cd-48e0c423a635"
      },
      "cell_type": "code",
      "source": [
        "print('Accuracy on the training subset: {:.3f}'.format(tree.score(X_train, y_train)))\n",
        "print('Accuracy on the test subset: {:.3f}'.format(tree.score(X_test, y_test)))"
      ],
      "execution_count": 18,
      "outputs": [
        {
          "output_type": "stream",
          "text": [
            "Accuracy on the training subset: 1.000\n",
            "Accuracy on the test subset: 0.925\n"
          ],
          "name": "stdout"
        }
      ]
    },
    {
      "metadata": {
        "id": "n-gOH6yx2lDU",
        "colab_type": "code",
        "colab": {
          "base_uri": "https://localhost:8080/",
          "height": 51
        },
        "outputId": "5a212173-1edd-49d2-d6b0-7e23d8b0866c"
      },
      "cell_type": "code",
      "source": [
        "tree1 = DecisionTreeClassifier(max_depth=4, random_state=0)\n",
        "tree1.fit(X_train, y_train)\n",
        "\n",
        "print('Accuracy on the training subset: {:.3f}'.format(tree1.score(X_train, y_train)))\n",
        "print('Accuracy on the test subset: {:.3f}'.format(tree1.score(X_test, y_test)))"
      ],
      "execution_count": 20,
      "outputs": [
        {
          "output_type": "stream",
          "text": [
            "Accuracy on the training subset: 0.988\n",
            "Accuracy on the test subset: 0.934\n"
          ],
          "name": "stdout"
        }
      ]
    },
    {
      "metadata": {
        "id": "z8DSirKx2ucM",
        "colab_type": "code",
        "colab": {
          "base_uri": "https://localhost:8080/",
          "height": 34
        },
        "outputId": "7a9bb746-3481-4c81-ec74-498ab7a6af0c"
      },
      "cell_type": "code",
      "source": [
        "y_pred=tree.predict(X_test)\n",
        "from sklearn import metrics\n",
        "print(metrics.accuracy_score(y_test, y_pred))"
      ],
      "execution_count": 22,
      "outputs": [
        {
          "output_type": "stream",
          "text": [
            "0.9342105263157895\n"
          ],
          "name": "stdout"
        }
      ]
    },
    {
      "metadata": {
        "id": "ZTkz0K7v3DqO",
        "colab_type": "code",
        "colab": {
          "base_uri": "https://localhost:8080/",
          "height": 34
        },
        "outputId": "51d55f69-2cf7-441d-bfc7-ca1dd3fa4339"
      },
      "cell_type": "code",
      "source": [
        "y_pred1=tree1.predict(X_test)\n",
        "from sklearn import metrics\n",
        "print(metrics.accuracy_score(y_test, y_pred1))"
      ],
      "execution_count": 23,
      "outputs": [
        {
          "output_type": "stream",
          "text": [
            "0.9342105263157895\n"
          ],
          "name": "stdout"
        }
      ]
    }
  ]
}