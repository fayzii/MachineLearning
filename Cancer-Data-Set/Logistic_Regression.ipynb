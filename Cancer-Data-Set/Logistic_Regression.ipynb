{
  "nbformat": 4,
  "nbformat_minor": 0,
  "metadata": {
    "colab": {
      "name": "Logistic Regression.ipynb",
      "version": "0.3.2",
      "provenance": []
    },
    "kernelspec": {
      "name": "python3",
      "display_name": "Python 3"
    }
  },
  "cells": [
    {
      "metadata": {
        "id": "MvZum-ReAdwj",
        "colab_type": "code",
        "colab": {}
      },
      "cell_type": "code",
      "source": [
        "import pandas as pd\n",
        "import matplotlib.pyplot as plt\n",
        "%matplotlib inline\n",
        "from sklearn.datasets import load_breast_cancer\n",
        "from sklearn.linear_model import LogisticRegression\n",
        "from sklearn.model_selection import train_test_split"
      ],
      "execution_count": 0,
      "outputs": []
    },
    {
      "metadata": {
        "id": "nwkmNWiUA5OA",
        "colab_type": "code",
        "colab": {}
      },
      "cell_type": "code",
      "source": [
        "cancer = load_breast_cancer()\n",
        "X=cancer.data\n",
        "y=cancer.target\n",
        "X_train, X_test, y_train, y_test = train_test_split(X, y, test_size=0.4)"
      ],
      "execution_count": 0,
      "outputs": []
    },
    {
      "metadata": {
        "id": "sib5q8YDBNO5",
        "colab_type": "code",
        "colab": {
          "base_uri": "https://localhost:8080/",
          "height": 85
        },
        "outputId": "e00e387d-cccf-4e4c-b039-5634022adcfc"
      },
      "cell_type": "code",
      "source": [
        "log_reg=LogisticRegression(C=100)\n",
        "log_reg.fit(X_train,y_train)"
      ],
      "execution_count": 32,
      "outputs": [
        {
          "output_type": "execute_result",
          "data": {
            "text/plain": [
              "LogisticRegression(C=100, class_weight=None, dual=False, fit_intercept=True,\n",
              "          intercept_scaling=1, max_iter=100, multi_class='ovr', n_jobs=1,\n",
              "          penalty='l2', random_state=None, solver='liblinear', tol=0.0001,\n",
              "          verbose=0, warm_start=False)"
            ]
          },
          "metadata": {
            "tags": []
          },
          "execution_count": 32
        }
      ]
    },
    {
      "metadata": {
        "id": "xYxDJPsDBYjh",
        "colab_type": "code",
        "colab": {}
      },
      "cell_type": "code",
      "source": [
        "y_pred=log_reg.predict(X_test)\n",
        "from sklearn import metrics"
      ],
      "execution_count": 0,
      "outputs": []
    },
    {
      "metadata": {
        "id": "DnByp7raCjgE",
        "colab_type": "code",
        "colab": {
          "base_uri": "https://localhost:8080/",
          "height": 34
        },
        "outputId": "1d699638-6e0d-4df7-846f-a7019243b72e"
      },
      "cell_type": "code",
      "source": [
        "print(metrics.accuracy_score(y_test, y_pred))"
      ],
      "execution_count": 34,
      "outputs": [
        {
          "output_type": "stream",
          "text": [
            "0.9649122807017544\n"
          ],
          "name": "stdout"
        }
      ]
    },
    {
      "metadata": {
        "id": "H8wpKRj1DkaF",
        "colab_type": "text"
      },
      "cell_type": "markdown",
      "source": [
        "Regularization:\n",
        "\n",
        "prevention of overfitting - (according to Muller and Guido ML book)\n",
        "\n",
        "L1 - assumes only a few features are important\n",
        "\n",
        "L2 - does not assume only a few features are important - used by default in scikit-learn LogisticRegression\n",
        "\n",
        "'C':\n",
        "\n",
        "parameter to control the strength of regularization\n",
        "\n",
        "\n",
        "lower C => log_reg adjusts to the majority of data points.\n",
        "\n",
        "higher C => correct classification of each data point.\n"
      ]
    },
    {
      "metadata": {
        "id": "FCSLCmMXDl5X",
        "colab_type": "code",
        "colab": {
          "base_uri": "https://localhost:8080/",
          "height": 51
        },
        "outputId": "6a9a92af-d499-4b4e-8be3-e7c9b76d3118"
      },
      "cell_type": "code",
      "source": [
        "log_reg100= LogisticRegression(C=100)\n",
        "log_reg100.fit(X_train, y_train)\n",
        "print('Accuracy on the training subset: {:.3f}'.format(log_reg100.score(X_train, y_train)))\n",
        "print('Accuracy on the test subset: {:.3f}'.format(log_reg100.score(X_test, y_test)))"
      ],
      "execution_count": 30,
      "outputs": [
        {
          "output_type": "stream",
          "text": [
            "Accuracy on the training subset: 0.974\n",
            "Accuracy on the test subset: 0.965\n"
          ],
          "name": "stdout"
        }
      ]
    },
    {
      "metadata": {
        "id": "OKO7rsoQD82U",
        "colab_type": "code",
        "colab": {
          "base_uri": "https://localhost:8080/",
          "height": 51
        },
        "outputId": "16e81774-aa3f-4464-9dcb-70ec3ddb465c"
      },
      "cell_type": "code",
      "source": [
        "log_reg001 = LogisticRegression(C=0.01)\n",
        "log_reg001.fit(X_train, y_train)\n",
        "print('Accuracy on the training subset: {:.3f}'.format(log_reg001.score(X_train, y_train)))\n",
        "print('Accuracy on the test subset: {:.3f}'.format(log_reg001.score(X_test, y_test)))"
      ],
      "execution_count": 31,
      "outputs": [
        {
          "output_type": "stream",
          "text": [
            "Accuracy on the training subset: 0.930\n",
            "Accuracy on the test subset: 0.939\n"
          ],
          "name": "stdout"
        }
      ]
    },
    {
      "metadata": {
        "id": "-2qz9quPFDZX",
        "colab_type": "code",
        "colab": {
          "base_uri": "https://localhost:8080/",
          "height": 389
        },
        "outputId": "039ce033-98c8-4607-c1c8-14c40376e6e6"
      },
      "cell_type": "code",
      "source": [
        "plt.plot(log_reg.coef_.T, 'o', label='C=1')\n",
        "plt.plot(log_reg100.coef_.T, '^', label='C=100')\n",
        "plt.plot(log_reg001.coef_.T, 'v', label='C=0.01')\n",
        "plt.xticks(range(cancer.data.shape[1]), cancer.feature_names, rotation=90)\n",
        "plt.hlines(0,0, cancer.data.shape[1])\n",
        "plt.ylim(-5,5)\n",
        "plt.xlabel('Coefficient Index')\n",
        "plt.ylabel('Coefficient Magnitude')\n",
        "plt.legend()"
      ],
      "execution_count": 36,
      "outputs": [
        {
          "output_type": "execute_result",
          "data": {
            "text/plain": [
              "<matplotlib.legend.Legend at 0x7fbec16d7c18>"
            ]
          },
          "metadata": {
            "tags": []
          },
          "execution_count": 36
        },
        {
          "output_type": "display_data",
          "data": {
            "image/png": "[encoded data removed]",
            "text/plain": [
              "<matplotlib.figure.Figure at 0x7fbec3fb0fd0>"
            ]
          },
          "metadata": {
            "tags": []
          }
        }
      ]
    }
  ]
}